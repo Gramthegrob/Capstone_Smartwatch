{
  "nbformat": 4,
  "nbformat_minor": 0,
  "metadata": {
    "colab": {
      "provenance": [],
      "mount_file_id": "113r5OcTqo6g-aub2mP4QjxAlRfdwAntm",
      "authorship_tag": "ABX9TyO5DCXjsKeSA6HRhoTTvRSh",
      "include_colab_link": true
    },
    "kernelspec": {
      "name": "python3",
      "display_name": "Python 3"
    },
    "language_info": {
      "name": "python"
    }
  },
  "cells": [
    {
      "cell_type": "markdown",
      "metadata": {
        "id": "view-in-github",
        "colab_type": "text"
      },
      "source": [
        "<a href=\"https://colab.research.google.com/github/Gramthegrob/Capstone_Smartwatch/blob/main/LSTM_DATASET_BARU.ipynb\" target=\"_parent\"><img src=\"https://colab.research.google.com/assets/colab-badge.svg\" alt=\"Open In Colab\"/></a>"
      ]
    },
    {
      "cell_type": "code",
      "execution_count": null,
      "metadata": {
        "id": "4-LByLWjKvjJ"
      },
      "outputs": [],
      "source": [
        "import pandas as pd\n",
        "import numpy as np\n",
        "from sklearn.preprocessing import MinMaxScaler\n",
        "from sklearn.model_selection import train_test_split\n",
        "from sklearn.metrics import classification_report, confusion_matrix\n",
        "from tensorflow.keras.models import Sequential\n",
        "from tensorflow.keras.layers import LSTM, Dense, Dropout, BatchNormalization\n",
        "from tensorflow.keras.callbacks import EarlyStopping\n",
        "from tensorflow.keras.utils import to_categorical\n",
        "import matplotlib.pyplot as plt\n",
        "import seaborn as sns"
      ]
    },
    {
      "cell_type": "code",
      "source": [
        "df = pd.read_csv('/content/drive/MyDrive/Dataset/Improved_All_Combined_hr_rsp_binary.csv')\n",
        "print (\"Jumlah NaN\")\n",
        "print (df.isna().sum())"
      ],
      "metadata": {
        "id": "9HA_dUlKK6SS",
        "colab": {
          "base_uri": "https://localhost:8080/"
        },
        "outputId": "aeb05798-a29d-4fe8-811d-043a4f907ce6"
      },
      "execution_count": null,
      "outputs": [
        {
          "output_type": "stream",
          "name": "stdout",
          "text": [
            "Jumlah NaN\n",
            "Participant     0\n",
            "HR             44\n",
            "respr           0\n",
            "Time(sec)       0\n",
            "Label           0\n",
            "dtype: int64\n"
          ]
        }
      ]
    },
    {
      "cell_type": "code",
      "source": [
        "df_clean = df.dropna()\n",
        "print (\"jumlah NaN\")\n",
        "print (df_clean.isna().sum())"
      ],
      "metadata": {
        "colab": {
          "base_uri": "https://localhost:8080/"
        },
        "id": "DR0fZwVsft4l",
        "outputId": "f4f1d336-2449-4e71-90a5-f309f2a71889"
      },
      "execution_count": null,
      "outputs": [
        {
          "output_type": "stream",
          "name": "stdout",
          "text": [
            "jumlah NaN\n",
            "Participant    0\n",
            "HR             0\n",
            "respr          0\n",
            "Time(sec)      0\n",
            "Label          0\n",
            "dtype: int64\n"
          ]
        }
      ]
    },
    {
      "cell_type": "code",
      "source": [
        "features = df_clean[[\"HR\", \"respr\"]].values  # hanya 2 fitur tersedia\n",
        "labels = df_clean[\"Label\"].values"
      ],
      "metadata": {
        "id": "vAzqDEqJLam9"
      },
      "execution_count": null,
      "outputs": []
    },
    {
      "cell_type": "code",
      "source": [
        "# Normalisasi fitur\n",
        "scaler = MinMaxScaler()\n",
        "features_scaled = scaler.fit_transform(features)"
      ],
      "metadata": {
        "id": "yp3t6asWLb_0"
      },
      "execution_count": null,
      "outputs": []
    },
    {
      "cell_type": "code",
      "source": [
        "# Buat window time-series (128 timestep)\n",
        "def create_sequences(features, labels, window_size=128):\n",
        "    X, y = [], []\n",
        "    for i in range(len(features) - window_size):\n",
        "        X.append(features[i:i+window_size])\n",
        "        y.append(labels[i+window_size])\n",
        "    return np.array(X), np.array(y)\n",
        "\n",
        "X, y = create_sequences(features_scaled, labels, window_size=128)"
      ],
      "metadata": {
        "id": "KgKrm8WcLdNX"
      },
      "execution_count": null,
      "outputs": []
    },
    {
      "cell_type": "code",
      "source": [
        "# One-hot encode label karena output pakai softmax\n",
        "y = to_categorical(y, num_classes=2)\n",
        "\n",
        "# Split data: 70% train, 10% val, 20% test\n",
        "X_temp, X_test, y_temp, y_test = train_test_split(\n",
        "    X, y, test_size=0.30, stratify=y.argmax(axis=1), random_state=42)\n",
        "\n",
        "X_train, X_val, y_train, y_val = train_test_split(\n",
        "    X_temp, y_temp, test_size=1/3, stratify=y_temp.argmax(axis=1), random_state=42)"
      ],
      "metadata": {
        "id": "phXoMBUCLkRE"
      },
      "execution_count": null,
      "outputs": []
    },
    {
      "cell_type": "code",
      "source": [
        "model = Sequential([\n",
        "    LSTM(100, return_sequences=True, input_shape=(128, 2)),\n",
        "    Dropout(0.1),\n",
        "    LSTM(100),\n",
        "    Dense(100, activation='relu'),\n",
        "    Dense(2, activation='softmax')\n",
        "])\n",
        "\n",
        "model.compile(optimizer='adam', loss='categorical_crossentropy', metrics=['accuracy'])\n",
        "model.summary()"
      ],
      "metadata": {
        "colab": {
          "base_uri": "https://localhost:8080/",
          "height": 321
        },
        "id": "eL5kc-TzLmZT",
        "outputId": "825c58d5-c81b-4bdd-ae99-3d625d423d56"
      },
      "execution_count": null,
      "outputs": [
        {
          "output_type": "stream",
          "name": "stderr",
          "text": [
            "/usr/local/lib/python3.11/dist-packages/keras/src/layers/rnn/rnn.py:200: UserWarning: Do not pass an `input_shape`/`input_dim` argument to a layer. When using Sequential models, prefer using an `Input(shape)` object as the first layer in the model instead.\n",
            "  super().__init__(**kwargs)\n"
          ]
        },
        {
          "output_type": "display_data",
          "data": {
            "text/plain": [
              "\u001b[1mModel: \"sequential_1\"\u001b[0m\n"
            ],
            "text/html": [
              "<pre style=\"white-space:pre;overflow-x:auto;line-height:normal;font-family:Menlo,'DejaVu Sans Mono',consolas,'Courier New',monospace\"><span style=\"font-weight: bold\">Model: \"sequential_1\"</span>\n",
              "</pre>\n"
            ]
          },
          "metadata": {}
        },
        {
          "output_type": "display_data",
          "data": {
            "text/plain": [
              "┏━━━━━━━━━━━━━━━━━━━━━━━━━━━━━━━━━┳━━━━━━━━━━━━━━━━━━━━━━━━┳━━━━━━━━━━━━━━━┓\n",
              "┃\u001b[1m \u001b[0m\u001b[1mLayer (type)                   \u001b[0m\u001b[1m \u001b[0m┃\u001b[1m \u001b[0m\u001b[1mOutput Shape          \u001b[0m\u001b[1m \u001b[0m┃\u001b[1m \u001b[0m\u001b[1m      Param #\u001b[0m\u001b[1m \u001b[0m┃\n",
              "┡━━━━━━━━━━━━━━━━━━━━━━━━━━━━━━━━━╇━━━━━━━━━━━━━━━━━━━━━━━━╇━━━━━━━━━━━━━━━┩\n",
              "│ lstm_2 (\u001b[38;5;33mLSTM\u001b[0m)                   │ (\u001b[38;5;45mNone\u001b[0m, \u001b[38;5;34m128\u001b[0m, \u001b[38;5;34m100\u001b[0m)       │        \u001b[38;5;34m41,200\u001b[0m │\n",
              "├─────────────────────────────────┼────────────────────────┼───────────────┤\n",
              "│ dropout_1 (\u001b[38;5;33mDropout\u001b[0m)             │ (\u001b[38;5;45mNone\u001b[0m, \u001b[38;5;34m128\u001b[0m, \u001b[38;5;34m100\u001b[0m)       │             \u001b[38;5;34m0\u001b[0m │\n",
              "├─────────────────────────────────┼────────────────────────┼───────────────┤\n",
              "│ lstm_3 (\u001b[38;5;33mLSTM\u001b[0m)                   │ (\u001b[38;5;45mNone\u001b[0m, \u001b[38;5;34m100\u001b[0m)            │        \u001b[38;5;34m80,400\u001b[0m │\n",
              "├─────────────────────────────────┼────────────────────────┼───────────────┤\n",
              "│ dense_2 (\u001b[38;5;33mDense\u001b[0m)                 │ (\u001b[38;5;45mNone\u001b[0m, \u001b[38;5;34m100\u001b[0m)            │        \u001b[38;5;34m10,100\u001b[0m │\n",
              "├─────────────────────────────────┼────────────────────────┼───────────────┤\n",
              "│ dense_3 (\u001b[38;5;33mDense\u001b[0m)                 │ (\u001b[38;5;45mNone\u001b[0m, \u001b[38;5;34m2\u001b[0m)              │           \u001b[38;5;34m202\u001b[0m │\n",
              "└─────────────────────────────────┴────────────────────────┴───────────────┘\n"
            ],
            "text/html": [
              "<pre style=\"white-space:pre;overflow-x:auto;line-height:normal;font-family:Menlo,'DejaVu Sans Mono',consolas,'Courier New',monospace\">┏━━━━━━━━━━━━━━━━━━━━━━━━━━━━━━━━━┳━━━━━━━━━━━━━━━━━━━━━━━━┳━━━━━━━━━━━━━━━┓\n",
              "┃<span style=\"font-weight: bold\"> Layer (type)                    </span>┃<span style=\"font-weight: bold\"> Output Shape           </span>┃<span style=\"font-weight: bold\">       Param # </span>┃\n",
              "┡━━━━━━━━━━━━━━━━━━━━━━━━━━━━━━━━━╇━━━━━━━━━━━━━━━━━━━━━━━━╇━━━━━━━━━━━━━━━┩\n",
              "│ lstm_2 (<span style=\"color: #0087ff; text-decoration-color: #0087ff\">LSTM</span>)                   │ (<span style=\"color: #00d7ff; text-decoration-color: #00d7ff\">None</span>, <span style=\"color: #00af00; text-decoration-color: #00af00\">128</span>, <span style=\"color: #00af00; text-decoration-color: #00af00\">100</span>)       │        <span style=\"color: #00af00; text-decoration-color: #00af00\">41,200</span> │\n",
              "├─────────────────────────────────┼────────────────────────┼───────────────┤\n",
              "│ dropout_1 (<span style=\"color: #0087ff; text-decoration-color: #0087ff\">Dropout</span>)             │ (<span style=\"color: #00d7ff; text-decoration-color: #00d7ff\">None</span>, <span style=\"color: #00af00; text-decoration-color: #00af00\">128</span>, <span style=\"color: #00af00; text-decoration-color: #00af00\">100</span>)       │             <span style=\"color: #00af00; text-decoration-color: #00af00\">0</span> │\n",
              "├─────────────────────────────────┼────────────────────────┼───────────────┤\n",
              "│ lstm_3 (<span style=\"color: #0087ff; text-decoration-color: #0087ff\">LSTM</span>)                   │ (<span style=\"color: #00d7ff; text-decoration-color: #00d7ff\">None</span>, <span style=\"color: #00af00; text-decoration-color: #00af00\">100</span>)            │        <span style=\"color: #00af00; text-decoration-color: #00af00\">80,400</span> │\n",
              "├─────────────────────────────────┼────────────────────────┼───────────────┤\n",
              "│ dense_2 (<span style=\"color: #0087ff; text-decoration-color: #0087ff\">Dense</span>)                 │ (<span style=\"color: #00d7ff; text-decoration-color: #00d7ff\">None</span>, <span style=\"color: #00af00; text-decoration-color: #00af00\">100</span>)            │        <span style=\"color: #00af00; text-decoration-color: #00af00\">10,100</span> │\n",
              "├─────────────────────────────────┼────────────────────────┼───────────────┤\n",
              "│ dense_3 (<span style=\"color: #0087ff; text-decoration-color: #0087ff\">Dense</span>)                 │ (<span style=\"color: #00d7ff; text-decoration-color: #00d7ff\">None</span>, <span style=\"color: #00af00; text-decoration-color: #00af00\">2</span>)              │           <span style=\"color: #00af00; text-decoration-color: #00af00\">202</span> │\n",
              "└─────────────────────────────────┴────────────────────────┴───────────────┘\n",
              "</pre>\n"
            ]
          },
          "metadata": {}
        },
        {
          "output_type": "display_data",
          "data": {
            "text/plain": [
              "\u001b[1m Total params: \u001b[0m\u001b[38;5;34m131,902\u001b[0m (515.24 KB)\n"
            ],
            "text/html": [
              "<pre style=\"white-space:pre;overflow-x:auto;line-height:normal;font-family:Menlo,'DejaVu Sans Mono',consolas,'Courier New',monospace\"><span style=\"font-weight: bold\"> Total params: </span><span style=\"color: #00af00; text-decoration-color: #00af00\">131,902</span> (515.24 KB)\n",
              "</pre>\n"
            ]
          },
          "metadata": {}
        },
        {
          "output_type": "display_data",
          "data": {
            "text/plain": [
              "\u001b[1m Trainable params: \u001b[0m\u001b[38;5;34m131,902\u001b[0m (515.24 KB)\n"
            ],
            "text/html": [
              "<pre style=\"white-space:pre;overflow-x:auto;line-height:normal;font-family:Menlo,'DejaVu Sans Mono',consolas,'Courier New',monospace\"><span style=\"font-weight: bold\"> Trainable params: </span><span style=\"color: #00af00; text-decoration-color: #00af00\">131,902</span> (515.24 KB)\n",
              "</pre>\n"
            ]
          },
          "metadata": {}
        },
        {
          "output_type": "display_data",
          "data": {
            "text/plain": [
              "\u001b[1m Non-trainable params: \u001b[0m\u001b[38;5;34m0\u001b[0m (0.00 B)\n"
            ],
            "text/html": [
              "<pre style=\"white-space:pre;overflow-x:auto;line-height:normal;font-family:Menlo,'DejaVu Sans Mono',consolas,'Courier New',monospace\"><span style=\"font-weight: bold\"> Non-trainable params: </span><span style=\"color: #00af00; text-decoration-color: #00af00\">0</span> (0.00 B)\n",
              "</pre>\n"
            ]
          },
          "metadata": {}
        }
      ]
    },
    {
      "cell_type": "code",
      "source": [
        "# Callback untuk early stopping\n",
        "early_stop = EarlyStopping(monitor='val_loss', patience=3, restore_best_weights=True)\n",
        "\n",
        "# Latih model\n",
        "history = model.fit(\n",
        "    X_train, y_train,\n",
        "    validation_data=(X_val, y_val),\n",
        "    epochs=30,\n",
        "    batch_size=64,\n",
        "    callbacks=[early_stop],\n",
        "    verbose=1\n",
        ")\n",
        "\n",
        "# Prediksi\n",
        "y_pred = model.predict(X_test)\n",
        "y_pred_classes = np.argmax(y_pred, axis=1)\n",
        "y_true_classes = np.argmax(y_test, axis=1)\n",
        "\n",
        "# Evaluasi\n",
        "print(classification_report(y_true_classes, y_pred_classes))\n"
      ],
      "metadata": {
        "colab": {
          "base_uri": "https://localhost:8080/"
        },
        "id": "1f9CxckvLqn9",
        "outputId": "a8c2ec90-e101-48e4-eed8-a710f7670f81",
        "collapsed": true
      },
      "execution_count": null,
      "outputs": [
        {
          "output_type": "stream",
          "name": "stdout",
          "text": [
            "Epoch 1/30\n",
            "\u001b[1m820/820\u001b[0m \u001b[32m━━━━━━━━━━━━━━━━━━━━\u001b[0m\u001b[37m\u001b[0m \u001b[1m414s\u001b[0m 499ms/step - accuracy: 0.6699 - loss: 0.6304 - val_accuracy: 0.6722 - val_loss: 0.6194\n",
            "Epoch 2/30\n",
            "\u001b[1m820/820\u001b[0m \u001b[32m━━━━━━━━━━━━━━━━━━━━\u001b[0m\u001b[37m\u001b[0m \u001b[1m410s\u001b[0m 500ms/step - accuracy: 0.6746 - loss: 0.6195 - val_accuracy: 0.6762 - val_loss: 0.6198\n",
            "Epoch 3/30\n",
            "\u001b[1m820/820\u001b[0m \u001b[32m━━━━━━━━━━━━━━━━━━━━\u001b[0m\u001b[37m\u001b[0m \u001b[1m443s\u001b[0m 502ms/step - accuracy: 0.6729 - loss: 0.6207 - val_accuracy: 0.6728 - val_loss: 0.6199\n",
            "Epoch 4/30\n",
            "\u001b[1m820/820\u001b[0m \u001b[32m━━━━━━━━━━━━━━━━━━━━\u001b[0m\u001b[37m\u001b[0m \u001b[1m416s\u001b[0m 471ms/step - accuracy: 0.6737 - loss: 0.6207 - val_accuracy: 0.6768 - val_loss: 0.6148\n",
            "Epoch 5/30\n",
            "\u001b[1m820/820\u001b[0m \u001b[32m━━━━━━━━━━━━━━━━━━━━\u001b[0m\u001b[37m\u001b[0m \u001b[1m467s\u001b[0m 502ms/step - accuracy: 0.6754 - loss: 0.6188 - val_accuracy: 0.6839 - val_loss: 0.6121\n",
            "Epoch 6/30\n",
            "\u001b[1m820/820\u001b[0m \u001b[32m━━━━━━━━━━━━━━━━━━━━\u001b[0m\u001b[37m\u001b[0m \u001b[1m427s\u001b[0m 484ms/step - accuracy: 0.6801 - loss: 0.6150 - val_accuracy: 0.6807 - val_loss: 0.6075\n",
            "Epoch 7/30\n",
            "\u001b[1m820/820\u001b[0m \u001b[32m━━━━━━━━━━━━━━━━━━━━\u001b[0m\u001b[37m\u001b[0m \u001b[1m416s\u001b[0m 508ms/step - accuracy: 0.6821 - loss: 0.6116 - val_accuracy: 0.6737 - val_loss: 0.6294\n",
            "Epoch 8/30\n",
            "\u001b[1m820/820\u001b[0m \u001b[32m━━━━━━━━━━━━━━━━━━━━\u001b[0m\u001b[37m\u001b[0m \u001b[1m440s\u001b[0m 506ms/step - accuracy: 0.6780 - loss: 0.6174 - val_accuracy: 0.6760 - val_loss: 0.6158\n",
            "Epoch 9/30\n",
            "\u001b[1m820/820\u001b[0m \u001b[32m━━━━━━━━━━━━━━━━━━━━\u001b[0m\u001b[37m\u001b[0m \u001b[1m415s\u001b[0m 507ms/step - accuracy: 0.6758 - loss: 0.6183 - val_accuracy: 0.6838 - val_loss: 0.6102\n",
            "\u001b[1m1054/1054\u001b[0m \u001b[32m━━━━━━━━━━━━━━━━━━━━\u001b[0m\u001b[37m\u001b[0m \u001b[1m65s\u001b[0m 61ms/step\n",
            "              precision    recall  f1-score   support\n",
            "\n",
            "           0       0.69      0.95      0.80     22659\n",
            "           1       0.53      0.11      0.19     11045\n",
            "\n",
            "    accuracy                           0.68     33704\n",
            "   macro avg       0.61      0.53      0.49     33704\n",
            "weighted avg       0.64      0.68      0.60     33704\n",
            "\n"
          ]
        }
      ]
    },
    {
      "cell_type": "code",
      "source": [
        "# Callback untuk early stopping\n",
        "early_stop = EarlyStopping(monitor='val_loss', patience=3, restore_best_weights=True)\n",
        "\n",
        "# Latih model\n",
        "history = model.fit(\n",
        "    X_train, y_train,\n",
        "    validation_data=(X_val, y_val),\n",
        "    epochs=30,                    # dinaikkan agar lebih fleksibel\n",
        "    batch_size=64,\n",
        "    callbacks=[early_stop],\n",
        "    verbose=1\n",
        ")\n",
        "\n",
        "# Prediksi\n",
        "y_pred = model.predict(X_test)\n",
        "y_pred_classes = np.argmax(y_pred, axis=1)\n",
        "y_true_classes = np.argmax(y_test, axis=1)\n",
        "\n",
        "# Evaluasi\n",
        "print(classification_report(y_true_classes, y_pred_classes))\n",
        "\n",
        "def plot_confusion_matrix(y_true, y_pred, labels=['Not Stressed', 'Stressed']):\n",
        "    cm = confusion_matrix(y_true, y_pred)\n",
        "\n",
        "    # Ekstrak nilai TN, FP, FN, TP\n",
        "    tn, fp, fn, tp = cm.ravel()\n",
        "\n",
        "    # Label untuk setiap sel\n",
        "    labels_text = np.array([\n",
        "        [f\"TN = {tn}\", f\"FP = {fp}\"],\n",
        "        [f\"FN = {fn}\", f\"TP = {tp}\"]\n",
        "    ])\n",
        "\n",
        "    plt.figure(figsize=(6, 5))\n",
        "    sns.heatmap(cm, annot=labels_text, fmt='', cmap='Blues', xticklabels=labels, yticklabels=labels)\n",
        "    plt.title(\"Confusion Matrix with Labels\")\n",
        "    plt.xlabel(\"Predicted Label\")\n",
        "    plt.ylabel(\"True Label\")\n",
        "    plt.show()"
      ],
      "metadata": {
        "colab": {
          "base_uri": "https://localhost:8080/"
        },
        "id": "GkCxiNttR3aO",
        "outputId": "9dee0f29-fff4-45bf-a6d2-efc9cc103995"
      },
      "execution_count": null,
      "outputs": [
        {
          "output_type": "stream",
          "name": "stdout",
          "text": [
            "Epoch 1/30\n",
            "\u001b[1m820/820\u001b[0m \u001b[32m━━━━━━━━━━━━━━━━━━━━\u001b[0m\u001b[37m\u001b[0m \u001b[1m902s\u001b[0m 1s/step - accuracy: 0.6705 - loss: 0.6266 - val_accuracy: 0.6751 - val_loss: 0.6186\n",
            "Epoch 2/30\n",
            "\u001b[1m820/820\u001b[0m \u001b[32m━━━━━━━━━━━━━━━━━━━━\u001b[0m\u001b[37m\u001b[0m \u001b[1m897s\u001b[0m 1s/step - accuracy: 0.6762 - loss: 0.6208 - val_accuracy: 0.6750 - val_loss: 0.6162\n",
            "Epoch 3/30\n",
            "\u001b[1m820/820\u001b[0m \u001b[32m━━━━━━━━━━━━━━━━━━━━\u001b[0m\u001b[37m\u001b[0m \u001b[1m893s\u001b[0m 1s/step - accuracy: 0.6763 - loss: 0.6171 - val_accuracy: 0.6428 - val_loss: 0.6344\n",
            "Epoch 4/30\n",
            "\u001b[1m820/820\u001b[0m \u001b[32m━━━━━━━━━━━━━━━━━━━━\u001b[0m\u001b[37m\u001b[0m \u001b[1m924s\u001b[0m 1s/step - accuracy: 0.6795 - loss: 0.6098 - val_accuracy: 0.6715 - val_loss: 0.6219\n",
            "Epoch 5/30\n",
            "\u001b[1m820/820\u001b[0m \u001b[32m━━━━━━━━━━━━━━━━━━━━\u001b[0m\u001b[37m\u001b[0m \u001b[1m905s\u001b[0m 1s/step - accuracy: 0.6840 - loss: 0.6030 - val_accuracy: 0.6950 - val_loss: 0.5948\n",
            "Epoch 6/30\n",
            "\u001b[1m820/820\u001b[0m \u001b[32m━━━━━━━━━━━━━━━━━━━━\u001b[0m\u001b[37m\u001b[0m \u001b[1m898s\u001b[0m 1s/step - accuracy: 0.6890 - loss: 0.5871 - val_accuracy: 0.6984 - val_loss: 0.5706\n",
            "Epoch 7/30\n",
            "\u001b[1m820/820\u001b[0m \u001b[32m━━━━━━━━━━━━━━━━━━━━\u001b[0m\u001b[37m\u001b[0m \u001b[1m924s\u001b[0m 1s/step - accuracy: 0.6955 - loss: 0.5767 - val_accuracy: 0.7083 - val_loss: 0.5648\n",
            "Epoch 8/30\n",
            "\u001b[1m820/820\u001b[0m \u001b[32m━━━━━━━━━━━━━━━━━━━━\u001b[0m\u001b[37m\u001b[0m \u001b[1m914s\u001b[0m 1s/step - accuracy: 0.7009 - loss: 0.5672 - val_accuracy: 0.6640 - val_loss: 0.6347\n",
            "Epoch 9/30\n",
            "\u001b[1m820/820\u001b[0m \u001b[32m━━━━━━━━━━━━━━━━━━━━\u001b[0m\u001b[37m\u001b[0m \u001b[1m881s\u001b[0m 1s/step - accuracy: 0.7091 - loss: 0.5572 - val_accuracy: 0.7281 - val_loss: 0.5327\n",
            "Epoch 10/30\n",
            "\u001b[1m820/820\u001b[0m \u001b[32m━━━━━━━━━━━━━━━━━━━━\u001b[0m\u001b[37m\u001b[0m \u001b[1m894s\u001b[0m 1s/step - accuracy: 0.7267 - loss: 0.5350 - val_accuracy: 0.6959 - val_loss: 0.5640\n",
            "Epoch 11/30\n",
            "\u001b[1m820/820\u001b[0m \u001b[32m━━━━━━━━━━━━━━━━━━━━\u001b[0m\u001b[37m\u001b[0m \u001b[1m917s\u001b[0m 1s/step - accuracy: 0.7374 - loss: 0.5186 - val_accuracy: 0.7321 - val_loss: 0.5241\n",
            "Epoch 12/30\n",
            "\u001b[1m820/820\u001b[0m \u001b[32m━━━━━━━━━━━━━━━━━━━━\u001b[0m\u001b[37m\u001b[0m \u001b[1m937s\u001b[0m 1s/step - accuracy: 0.7506 - loss: 0.4973 - val_accuracy: 0.7368 - val_loss: 0.5086\n",
            "Epoch 13/30\n",
            "\u001b[1m820/820\u001b[0m \u001b[32m━━━━━━━━━━━━━━━━━━━━\u001b[0m\u001b[37m\u001b[0m \u001b[1m904s\u001b[0m 1s/step - accuracy: 0.7620 - loss: 0.4803 - val_accuracy: 0.7436 - val_loss: 0.5086\n",
            "Epoch 14/30\n",
            "\u001b[1m820/820\u001b[0m \u001b[32m━━━━━━━━━━━━━━━━━━━━\u001b[0m\u001b[37m\u001b[0m \u001b[1m922s\u001b[0m 1s/step - accuracy: 0.7787 - loss: 0.4610 - val_accuracy: 0.8185 - val_loss: 0.3977\n",
            "Epoch 15/30\n",
            "\u001b[1m820/820\u001b[0m \u001b[32m━━━━━━━━━━━━━━━━━━━━\u001b[0m\u001b[37m\u001b[0m \u001b[1m928s\u001b[0m 1s/step - accuracy: 0.7932 - loss: 0.4333 - val_accuracy: 0.8094 - val_loss: 0.4019\n",
            "Epoch 16/30\n",
            "\u001b[1m820/820\u001b[0m \u001b[32m━━━━━━━━━━━━━━━━━━━━\u001b[0m\u001b[37m\u001b[0m \u001b[1m926s\u001b[0m 1s/step - accuracy: 0.8063 - loss: 0.4130 - val_accuracy: 0.8028 - val_loss: 0.4151\n",
            "Epoch 17/30\n",
            "\u001b[1m820/820\u001b[0m \u001b[32m━━━━━━━━━━━━━━━━━━━━\u001b[0m\u001b[37m\u001b[0m \u001b[1m915s\u001b[0m 1s/step - accuracy: 0.8225 - loss: 0.3897 - val_accuracy: 0.8488 - val_loss: 0.3316\n",
            "Epoch 18/30\n",
            "\u001b[1m820/820\u001b[0m \u001b[32m━━━━━━━━━━━━━━━━━━━━\u001b[0m\u001b[37m\u001b[0m \u001b[1m927s\u001b[0m 1s/step - accuracy: 0.8233 - loss: 0.3804 - val_accuracy: 0.8589 - val_loss: 0.3202\n",
            "Epoch 19/30\n",
            "\u001b[1m820/820\u001b[0m \u001b[32m━━━━━━━━━━━━━━━━━━━━\u001b[0m\u001b[37m\u001b[0m \u001b[1m886s\u001b[0m 1s/step - accuracy: 0.8276 - loss: 0.3693 - val_accuracy: 0.8754 - val_loss: 0.2925\n",
            "Epoch 20/30\n",
            "\u001b[1m820/820\u001b[0m \u001b[32m━━━━━━━━━━━━━━━━━━━━\u001b[0m\u001b[37m\u001b[0m \u001b[1m925s\u001b[0m 1s/step - accuracy: 0.8456 - loss: 0.3406 - val_accuracy: 0.8180 - val_loss: 0.3871\n",
            "Epoch 21/30\n",
            "\u001b[1m820/820\u001b[0m \u001b[32m━━━━━━━━━━━━━━━━━━━━\u001b[0m\u001b[37m\u001b[0m \u001b[1m900s\u001b[0m 1s/step - accuracy: 0.8469 - loss: 0.3384 - val_accuracy: 0.8939 - val_loss: 0.2553\n",
            "Epoch 22/30\n",
            "\u001b[1m820/820\u001b[0m \u001b[32m━━━━━━━━━━━━━━━━━━━━\u001b[0m\u001b[37m\u001b[0m \u001b[1m939s\u001b[0m 1s/step - accuracy: 0.8594 - loss: 0.3164 - val_accuracy: 0.8571 - val_loss: 0.3183\n",
            "Epoch 23/30\n",
            "\u001b[1m820/820\u001b[0m \u001b[32m━━━━━━━━━━━━━━━━━━━━\u001b[0m\u001b[37m\u001b[0m \u001b[1m900s\u001b[0m 1s/step - accuracy: 0.8637 - loss: 0.3073 - val_accuracy: 0.8947 - val_loss: 0.2453\n",
            "Epoch 24/30\n",
            "\u001b[1m820/820\u001b[0m \u001b[32m━━━━━━━━━━━━━━━━━━━━\u001b[0m\u001b[37m\u001b[0m \u001b[1m947s\u001b[0m 1s/step - accuracy: 0.8704 - loss: 0.2934 - val_accuracy: 0.8362 - val_loss: 0.3575\n",
            "Epoch 25/30\n",
            "\u001b[1m820/820\u001b[0m \u001b[32m━━━━━━━━━━━━━━━━━━━━\u001b[0m\u001b[37m\u001b[0m \u001b[1m888s\u001b[0m 1s/step - accuracy: 0.8798 - loss: 0.2748 - val_accuracy: 0.9124 - val_loss: 0.2117\n",
            "Epoch 26/30\n",
            "\u001b[1m820/820\u001b[0m \u001b[32m━━━━━━━━━━━━━━━━━━━━\u001b[0m\u001b[37m\u001b[0m \u001b[1m883s\u001b[0m 1s/step - accuracy: 0.8906 - loss: 0.2575 - val_accuracy: 0.9078 - val_loss: 0.2177\n",
            "Epoch 27/30\n",
            "\u001b[1m820/820\u001b[0m \u001b[32m━━━━━━━━━━━━━━━━━━━━\u001b[0m\u001b[37m\u001b[0m \u001b[1m854s\u001b[0m 1s/step - accuracy: 0.8862 - loss: 0.2681 - val_accuracy: 0.9126 - val_loss: 0.2022\n",
            "Epoch 28/30\n",
            "\u001b[1m820/820\u001b[0m \u001b[32m━━━━━━━━━━━━━━━━━━━━\u001b[0m\u001b[37m\u001b[0m \u001b[1m863s\u001b[0m 1s/step - accuracy: 0.8881 - loss: 0.2555 - val_accuracy: 0.9355 - val_loss: 0.1588\n",
            "Epoch 29/30\n",
            "\u001b[1m820/820\u001b[0m \u001b[32m━━━━━━━━━━━━━━━━━━━━\u001b[0m\u001b[37m\u001b[0m \u001b[1m934s\u001b[0m 1s/step - accuracy: 0.9032 - loss: 0.2284 - val_accuracy: 0.9007 - val_loss: 0.2256\n",
            "Epoch 30/30\n",
            "\u001b[1m820/820\u001b[0m \u001b[32m━━━━━━━━━━━━━━━━━━━━\u001b[0m\u001b[37m\u001b[0m \u001b[1m867s\u001b[0m 1s/step - accuracy: 0.9128 - loss: 0.2076 - val_accuracy: 0.9203 - val_loss: 0.1844\n",
            "\u001b[1m1054/1054\u001b[0m \u001b[32m━━━━━━━━━━━━━━━━━━━━\u001b[0m\u001b[37m\u001b[0m \u001b[1m223s\u001b[0m 212ms/step\n",
            "              precision    recall  f1-score   support\n",
            "\n",
            "           0       0.94      0.97      0.95     22659\n",
            "           1       0.94      0.87      0.90     11045\n",
            "\n",
            "    accuracy                           0.94     33704\n",
            "   macro avg       0.94      0.92      0.93     33704\n",
            "weighted avg       0.94      0.94      0.94     33704\n",
            "\n"
          ]
        }
      ]
    }
  ]
}